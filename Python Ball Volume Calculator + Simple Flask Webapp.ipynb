{
 "cells": [
  {
   "cell_type": "markdown",
   "id": "b4883eb0",
   "metadata": {},
   "source": [
    "# Please Check Out the simple web app instead\n",
    "http://erwinsyahh.pythonanywhere.com/"
   ]
  },
  {
   "cell_type": "code",
   "execution_count": 1,
   "id": "75560e27",
   "metadata": {},
   "outputs": [
    {
     "name": "stdout",
     "output_type": "stream",
     "text": [
      "Masukkan radius bola (cm/m) = 7\n",
      "Volume bola adalah = 1436.76 (cm3/m3)\n"
     ]
    }
   ],
   "source": [
    "import math\n",
    "def ball_volume ():\n",
    "  try:\n",
    "    radius= input(\"Masukkan radius bola (cm/m) = \")\n",
    "    volume= round(4/3*math.pi*(float(radius)**3),2)\n",
    "    print (\"Volume bola adalah =\",volume,\"(cm3/m3)\")\n",
    "  except ValueError:\n",
    "    return \"invalid input, masukkan angka\"\n",
    "ball_volume()"
   ]
  },
  {
   "cell_type": "code",
   "execution_count": null,
   "id": "f451d960",
   "metadata": {},
   "outputs": [],
   "source": []
  }
 ],
 "metadata": {
  "kernelspec": {
   "display_name": "Python 3",
   "language": "python",
   "name": "python3"
  },
  "language_info": {
   "codemirror_mode": {
    "name": "ipython",
    "version": 3
   },
   "file_extension": ".py",
   "mimetype": "text/x-python",
   "name": "python",
   "nbconvert_exporter": "python",
   "pygments_lexer": "ipython3",
   "version": "3.8.8"
  }
 },
 "nbformat": 4,
 "nbformat_minor": 5
}
